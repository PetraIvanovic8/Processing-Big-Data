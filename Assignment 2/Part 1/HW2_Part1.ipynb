{
 "cells": [
  {
   "cell_type": "code",
   "execution_count": 9,
   "id": "4f4391f3",
   "metadata": {
    "scrolled": true
   },
   "outputs": [
    {
     "name": "stdout",
     "output_type": "stream",
     "text": [
      "['09-Dec-21,6:00PM;#Hackatopia,Tribeca Film Hackathon: Code As A New Language For Content Creators Hackathon', '28-Dec-21,7:00PM;#NYCHadoop,Hadoop-NYC Strata/Hadoop World Meetup at Google NYC', \"31-Dec-21,3:00PM;#Hackatopia,Artists, Developers, engineers, don't miss this upcoming Boston hackathon\", '09-Jan-22,6:00PM;#Hackatopia,Soho Film Hackathon: Code As A New Language For Content Creators Hackathon', '28-Jan-22,7:00PM;#NYCHadoop,HIVE-NYC Strata/Hadoop World Meetup at Google NYC', \"31-Jan-22,3:00PM;#Hack,Designers, Developers, ENGINEERS, don't miss this upcoming Chicago hackathon\"]\n"
     ]
    }
   ],
   "source": [
    "with open(\"input_part1.txt\", 'r') as file:\n",
    "    #Read the contents of the file\n",
    "    file_contents = file.read()\n",
    "\n",
    "    #Split the contents into a list of rows\n",
    "    input_file = file_contents.splitlines()\n",
    "\n",
    "print(input_file)"
   ]
  },
  {
   "cell_type": "code",
   "execution_count": 32,
   "id": "3f337964",
   "metadata": {},
   "outputs": [
    {
     "name": "stdout",
     "output_type": "stream",
     "text": [
      "09-dec-21,6:00pm;#hackatopia,tribeca film hackathon: code as a new language for content creators hackathon\n",
      "28-dec-21,7:00pm;#nychadoop,hadoop-nyc strata/hadoop world meetup at google nyc\n",
      "31-dec-21,3:00pm;#hackatopia,artists, developers, engineers, don't miss this upcoming boston hackathon\n",
      "09-jan-22,6:00pm;#hackatopia,soho film hackathon: code as a new language for content creators hackathon\n",
      "28-jan-22,7:00pm;#nychadoop,hive-nyc strata/hadoop world meetup at google nyc\n",
      "31-jan-22,3:00pm;#hack,designers, developers, engineers, don't miss this upcoming chicago hackathon\n"
     ]
    }
   ],
   "source": [
    "dictionary = {'Chicago':0, 'Dec':0, 'Java':0, 'Hackathon':0, 'Engineers':0}\n",
    "\n",
    "for i in input_file:\n",
    "    print(i.lower())\n",
    "    for j in dictionary:\n",
    "        if j.lower() in i.lower():\n",
    "            dictionary[j]+=1"
   ]
  },
  {
   "cell_type": "code",
   "execution_count": 37,
   "id": "b1553384",
   "metadata": {},
   "outputs": [
    {
     "name": "stdout",
     "output_type": "stream",
     "text": [
      "Chicago 1\n",
      "Dec 3\n",
      "Java 0\n",
      "Hackathon 4\n",
      "Engineers 2\n"
     ]
    }
   ],
   "source": [
    "for i in dictionary:\n",
    "    print(i, dictionary[i])"
   ]
  },
  {
   "cell_type": "code",
   "execution_count": null,
   "id": "622fb7b7",
   "metadata": {},
   "outputs": [],
   "source": []
  }
 ],
 "metadata": {
  "kernelspec": {
   "display_name": "Python 3 (ipykernel)",
   "language": "python",
   "name": "python3"
  },
  "language_info": {
   "codemirror_mode": {
    "name": "ipython",
    "version": 3
   },
   "file_extension": ".py",
   "mimetype": "text/x-python",
   "name": "python",
   "nbconvert_exporter": "python",
   "pygments_lexer": "ipython3",
   "version": "3.8.5"
  }
 },
 "nbformat": 4,
 "nbformat_minor": 5
}
